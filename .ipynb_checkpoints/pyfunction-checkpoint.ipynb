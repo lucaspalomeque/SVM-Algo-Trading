{
 "cells": [
  {
   "cell_type": "code",
   "execution_count": 1,
   "metadata": {},
   "outputs": [],
   "source": [
    "def RSI(df, column=\"Close\", period=14):\n",
    "    # Wilder's RSI\n",
    "    delta = df[column].diff()\n",
    "    up, down = delta.copy(), delta.copy()\n",
    "    up[up < 0] = 0\n",
    "    down[down > 0] = 0\n",
    "    rUp = up.ewm(com=period - 1, adjust=False).mean()\n",
    "    rDown = down.ewm(com=period - 1, adjust=False).mean().abs()\n",
    "    rsi = 100 - 100 / (1 + rUp / rDown)\n",
    "    df = df.join(rsi.to_frame('RSI'))\n",
    "    df['RSI_p1'] = df['RSI'].shift()\n",
    "    df['RSI_p2'] = df['RSI_p1'].shift()\n",
    "    return df"
   ]
  },
  {
   "cell_type": "code",
   "execution_count": null,
   "metadata": {},
   "outputs": [],
   "source": []
  }
 ],
 "metadata": {
  "kernelspec": {
   "display_name": "Python 3",
   "language": "python",
   "name": "python3"
  },
  "language_info": {
   "codemirror_mode": {
    "name": "ipython",
    "version": 3
   },
   "file_extension": ".py",
   "mimetype": "text/x-python",
   "name": "python",
   "nbconvert_exporter": "python",
   "pygments_lexer": "ipython3",
   "version": "3.6.7"
  },
  "toc": {
   "base_numbering": 1,
   "nav_menu": {},
   "number_sections": true,
   "sideBar": true,
   "skip_h1_title": false,
   "title_cell": "Table of Contents",
   "title_sidebar": "Contents",
   "toc_cell": false,
   "toc_position": {},
   "toc_section_display": true,
   "toc_window_display": false
  }
 },
 "nbformat": 4,
 "nbformat_minor": 2
}
