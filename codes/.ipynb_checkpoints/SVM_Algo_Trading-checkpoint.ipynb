{
 "cells": [
  {
   "cell_type": "code",
   "execution_count": 1,
   "metadata": {},
   "outputs": [],
   "source": [
    "import numpy as np\n",
    "import pandas as pd\n",
    "import matplotlib.pyplot as plt\n",
    "import yfinance as yf"
   ]
  },
  {
   "cell_type": "code",
   "execution_count": 2,
   "metadata": {},
   "outputs": [],
   "source": [
    "SPY = yf.Ticker('SPY')\n",
    "VIX = yf.Ticker('^VIX')"
   ]
  },
  {
   "cell_type": "code",
   "execution_count": 3,
   "metadata": {},
   "outputs": [],
   "source": [
    "up_trend_train_start = '2003-02-14'\n",
    "up_trend_train_end = '2007-10-09'\n",
    "\n",
    "down_trend_train_start = '2000-09-01'\n",
    "down_trend_train_end = '2003-02-13'\n",
    "\n",
    "up_trend_test_start = '2009-04-09'\n",
    "up_trend_test_end = '2010-03-26'\n",
    "\n",
    "down_trend_test_start = '2007-10-09'\n",
    "down_trend_test_end = '2008-09-26'"
   ]
  },
  {
   "cell_type": "code",
   "execution_count": 5,
   "metadata": {},
   "outputs": [],
   "source": [
    "spy_up_train = SPY.history(start=up_trend_train_start, end=up_trend_train_end, interval='1d')\n",
    "spy_down_train = SPY.history(start=down_trend_train_start, end=down_trend_train_end, interval='1d')\n",
    "\n",
    "spy_up_test = SPY.history(start=up_trend_test_start, end=up_trend_test_end, interval='1d')\n",
    "spy_down_test = SPY.history(start=down_trend_test_start, end=down_trend_test_end, interval='1d')"
   ]
  },
  {
   "cell_type": "code",
   "execution_count": null,
   "metadata": {},
   "outputs": [],
   "source": []
  }
 ],
 "metadata": {
  "kernelspec": {
   "display_name": "Python 3",
   "language": "python",
   "name": "python3"
  },
  "language_info": {
   "codemirror_mode": {
    "name": "ipython",
    "version": 3
   },
   "file_extension": ".py",
   "mimetype": "text/x-python",
   "name": "python",
   "nbconvert_exporter": "python",
   "pygments_lexer": "ipython3",
   "version": "3.7.4"
  }
 },
 "nbformat": 4,
 "nbformat_minor": 2
}
